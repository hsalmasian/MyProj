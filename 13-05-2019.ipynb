{
 "cells": [
  {
   "cell_type": "code",
   "execution_count": 1,
   "metadata": {},
   "outputs": [],
   "source": [
    "reset()\n",
    "\n",
    "%display typeset\n",
    "\n",
    "AA.<x,y>=PolynomialRing(QQ,'x,y')\n",
    "\n",
    "K.<k> = FractionField(PolynomialRing(QQ, 'k'))\n",
    "R.<x,y> = PolynomialRing(K,['x','y'])\n",
    "\n",
    "\n",
    "######################################################\n",
    "######################################################\n",
    "######################################################\n",
    "\n",
    "#@cached_function\n",
    "\n",
    "def KS (p,q,r):\n",
    "    if q>0: return (x-r)*(y-r) * KS(p-1,q-1,r+1)\n",
    "    else: \n",
    "        expr=R(0)\n",
    "        for a in [0..p]:\n",
    "            Interim1=product(((k+1-s)/(s+1)) for s in (0..p-a-1))*product(((k+1-s)/(s+1)) for s in (0..a-1))\n",
    "            Interim2=product(((k+1-s)/(s+1)) for s in (0..p-1))\n",
    "            Interim3=product((x+k+1-a-r-i) for i in (0..p-a-1))*product((y-r-j) for j in (0..a-1))\n",
    "            expr=expr+SR((Interim1/Interim2)*Interim3)\n",
    "    return(expr)\n",
    "\n",
    "\n",
    "#@cached_function\n",
    "\n",
    "def KnSa (pp,qq): \n",
    "    return R(KS(pp,qq,0))\n",
    "\n",
    "\n",
    "\n",
    "def RegularPart(polyn,param):\n",
    "    polys=(SR(polyn).subs(k=k+param))\n",
    "    polySing=(k*polys).expand().simplify_rational().subs(k=0)\n",
    "    polyRegs=(polys-(1/k)*polySing).simplify_rational()\n",
    "    \n",
    "    polyReg=polyRegs.subs(k=0)\n",
    "    return polyReg    \n",
    "\n",
    "######################################################\n",
    "######################################################\n",
    "######################################################\n",
    "\n",
    "def SingularPart(polyn,param):\n",
    "    polys=(SR(polyn).subs(k=k+param))\n",
    "    polySing=(k*polys).expand().simplify_rational().subs(k=0)\n",
    "    return(polySing)\n",
    "\n",
    "\n",
    "\n",
    "\n",
    "##################################################################\n",
    "#\n",
    "# Rks(la1,la2,kparam) computes the regular part of the \n",
    "# Knop-Sahi polynomial KnSa(la1,la2) at k=kparam.\n",
    "#\n",
    "##################################################################\n",
    "\n",
    "\n",
    "def Rks(la1,la2,kparam):\n",
    "    return SR(RegularPart(KnSa(la1,la2),kparam))\n",
    "\n",
    "\n",
    "\n",
    "#######################################################################\n",
    "#Determining the partition type; singular, quasi-regular, regular\n",
    "#######################################################################\n",
    "\n",
    "def PType (la1,la2,param):\n",
    "    if (la1<=param) or (la1-la2)==(param+1) or (la1-la2)>=(2*param+3): \n",
    "        return 'irr'\n",
    "    if (la1-la2)<=param and la1>=(param+1):\n",
    "        return 'qreg'\n",
    "    if (la1-la2)>=(param+2) and (la1-la2)<=(2*param+2):\n",
    "        return 'sing' \n",
    "\n",
    "\n",
    "\n",
    "\n",
    "##############################################################\n",
    "# NumPar(d) is the number of partiions lambda=(\\lambda_1,\\lambda_2) \n",
    "# of size at most d. \n",
    "##############################################################\n",
    "\n",
    "\n",
    "def NumPar(d):\n",
    "    if mod(d,2)==0:\n",
    "        return ((d/2)+1)^2\n",
    "    if mod(d,2)==1:\n",
    "        return((d+1)*(d+3)/4)\n",
    "\n",
    "    \n",
    "    \n",
    "\n",
    "    \n",
    "#######################################\n",
    "#   Calculation of \\square f:\n",
    "#######################################\n",
    "    \n",
    "def NAbla(ff):\n",
    "    return (ff.derivative(x)-ff.derivative(y))/(4*(x-y))\n",
    "\n",
    "def FuncValues (ff,param,mylevel):\n",
    "    Dff=NAbla(ff)\n",
    "    for ppsize in [0..mylevel]:\n",
    "        for mu2 in [0..ppsize]:\n",
    "            mu1=ppsize-mu2\n",
    "            if (mu1>=mu2):\n",
    "                if PType(mu1,mu2,param)=='irr':\n",
    "                    print mu1,mu2, PType(mu1,mu2,param), (ff.subs(x=mu1-param-1,y=mu2))\n",
    "                if PType(mu1,mu2,param)=='sing':\n",
    "                    print mu1,mu2, PType(mu1,mu2,param), (ff.subs(x=mu1-param-1,y=mu2))\n",
    "                if PType(mu1,mu2,param)=='qreg':\n",
    "                    print mu1,mu2, PType(mu1,mu2,param), (Dff.subs(x=mu1-param-1,y=mu2))    \n",
    "    \n",
    "    \n",
    "\n",
    "    \n",
    "##############################################################\n",
    "# (k)=x(x-1)...(x-k+1)/k! and FY(k)=y(y-1)...(y-k+1)/k!\n",
    "##############################################################\n",
    "def FX(k):\n",
    "    if k>0:\n",
    "        return (product((x-i+1) for i in [1..k])/factorial(k)) \n",
    "    if k==0:\n",
    "        return AA(1)\n",
    "    if k<0: \n",
    "        return AA(0)\n",
    "    \n",
    "def FY(k):    \n",
    "    if k>0:\n",
    "        return (product((y-i+1) for i in [1..k])/factorial(k)) \n",
    "    if k==0:\n",
    "        return AA(1)\n",
    "    if k<0: \n",
    "        return AA(0)\n",
    "\n",
    "##########################################\n",
    "##\n",
    "## XaYb returns the value of [((x)_a)((y)_b)-((x)_b)((y)_a)] / 2(x-y) at x=c1 and y=c2\n",
    "##\n",
    "##########################################\n",
    "\n",
    "def XaYb(aa,bb,c1,c2):\n",
    "    if aa<=bb:\n",
    "        a=aa\n",
    "        b=bb\n",
    "        Esign=1\n",
    "    else:\n",
    "        a=bb\n",
    "        b=aa\n",
    "        Esign=-1\n",
    "    summ=QQ(0)\n",
    "    for i in [0..b-a-1]:\n",
    "        for j in [0..b-a-1-i]:\n",
    "            Val1=(Esign*((-1)^(b-a+i+j)))/binomial(b,a)\n",
    "            Val2=product((b-a-i-r) for r in [1..j])\n",
    "            Val3=product((b-a-r) for r in [0..j])\n",
    "            Val4=binomial(a+i,a)*binomial(a+j,a)*QQ(FX(a+i)(x=c1))*QQ(FY(a+j)(y=c2))\n",
    "            summ=summ+((Val1*Val2*Val4)/Val3)\n",
    "    return (1/2)*summ\n",
    "\n",
    "\n",
    "\n",
    "##################################################\n",
    "# Me(la1,la2): The column of the coeff matrix that \n",
    "# is indexed by the partition (la1,la2) is obtained \n",
    "# by the given formula. The numbering of partitions \n",
    "# starts as 0,1,2,3,... \n",
    "##################################################\n",
    "\n",
    "def mE(la1,la2):\n",
    "    d=la1+la2\n",
    "    if mod(d,2)==0:\n",
    "        return ((d*(d+2)/4)+la2)\n",
    "    else:\n",
    "        return (((d+1)/2)^2+la2)    \n",
    "\n",
    "\n",
    "    \n",
    "\n",
    "    \n",
    "##################################################\n",
    "#\n",
    "# The function mEnt Computes the entry of the matrix A. For a partition (la1,la2) \n",
    "# of 'irr' or 'sing' type (corresponding to the k-parameter value \"param\"), \n",
    "# the function mEnt returns the value of (x)_e1 (y)_e2 + x_(e2) y_(e1) at the point \n",
    "# (la1-param-1,la2). For a partition (la1,la2) of quasi-regular type, it returns\n",
    "# the value of (dx-dy)/2(x-y)[(x)_e1 (y)_e2 + x_(e2) y_(e1)] at the same point.\n",
    "# the function returns\n",
    "#\n",
    "##################################################\n",
    "    \n",
    "def mEnt(la1,la2,et1,et2,param):\n",
    "    if PType(la1,la2,param)=='irr' or PType(la1,la2,param)=='sing':\n",
    "        f=AA(FX(et1)*FY(et2)+FX(et2)*FY(et1))\n",
    "        return f(x=la1-param-1,y=la2)\n",
    "    else: \n",
    "        Vall1=QQ(0)\n",
    "        for t in [1..et2]:\n",
    "            signt=QQ(((-1)^(t-1))/t)\n",
    "            Vt=QQ(XaYb(et2-t,et1,la1-param-1,la2))\n",
    "            Vall1=Vall1+(signt*Vt)\n",
    "        for t in [1..et1]:\n",
    "            signt=QQ(((-1)^(t-1))/t)\n",
    "            Vt=QQ(XaYb(et1-t,et2,la1-param-1,la2))\n",
    "            Vall1=Vall1+(signt*Vt)\n",
    "        return (1/2)*Vall1\n",
    "\n",
    "\n",
    "\n",
    "#########################################################################\n",
    "#  BigCapelliFactorial(d,k,l) computes the big Capelli polynomial \n",
    "#  corresponding to the partition (d+k+l+2,d) for the given values k,l.\n",
    "#  The polynomial is written in the factorial powers (x)_p(y)_q=FX(p)*FY(q). \n",
    "#  The nonzero coefficients are (conjecturally) only for the monomials\n",
    "# where p=d+i,q=d+j with i+j\\leq k+l+2. The output of the function is an\n",
    "# N x 3 matrix: the first two columns give the values of i and j, and \n",
    "# the third column gives the value of the coefficient of the factorial \n",
    "# monomial (x)_{p} (y)_{q} + x_{q} y_{p}.\n",
    "#########################################################################\n",
    "\n",
    "@cached_function\n",
    "\n",
    "def BigCapelliFactorial(lowerd,kparam,lparam):\n",
    "    \n",
    "    kvalue=kparam\n",
    "    lvalue=lparam\n",
    "\n",
    "    lambda2=lowerd\n",
    "    lambda1=kvalue+2+lvalue+lambda2\n",
    "\n",
    "\n",
    "\n",
    "    dvalue=lambda1+lambda2\n",
    "\n",
    "    A=matrix(QQ,NumPar(dvalue),NumPar(dvalue),0)\n",
    "    B=matrix(QQ,NumPar(dvalue),1,0)\n",
    "    C=matrix(QQ,NumPar(dvalue),1,0)    \n",
    "    \n",
    "    #########\n",
    "    D=matrix(QQ,NumPar(kvalue+lvalue+2),1,0)\n",
    "    #########\n",
    "\n",
    "    ##################################################################################\n",
    "    # Filling the vector B with the values corresponding to a quasi regular partition.\n",
    "    ##################################################################################\n",
    "\n",
    "    CounterB=0\n",
    "    for Prtsize in [0..dvalue]:\n",
    "        for jj in [0..floor(Prtsize/2)]:\n",
    "            mu1=Prtsize-jj\n",
    "            mu2=jj\n",
    "            if (mu1==lambda1) and (mu2==lambda2):\n",
    "                B[CounterB,0]=QQ(1)\n",
    "            else: \n",
    "                B[CounterB,0]=QQ(0)\n",
    "            CounterB=CounterB+1\n",
    "\n",
    "\n",
    "\n",
    "    #################################################\n",
    "    # Filling up the entries of A\n",
    "    #################################################\n",
    "\n",
    "\n",
    "    rowA=0\n",
    "    for Prtsize in [0..dvalue]:\n",
    "        for jj in [0..floor(Prtsize/2)]:\n",
    "            mu1=Prtsize-jj\n",
    "            mu2=jj\n",
    "            colA=0\n",
    "            for Prtsize1 in [0..dvalue]:\n",
    "                for ll in [0..floor(Prtsize1/2)]:\n",
    "                    eta1=Prtsize1-ll\n",
    "                    eta2=ll\n",
    "                    A[rowA,colA]=mEnt(mu1,mu2,eta1,eta2,kvalue)\n",
    "                    colA=colA+1\n",
    "            rowA=rowA+1\n",
    "\n",
    "    ################################################################\n",
    "    #\n",
    "    # Solving the linear system and obtaining the coefficients of the interpolated polynomial\n",
    "    #\n",
    "    ################################################################\n",
    "\n",
    "\n",
    "\n",
    "    #C=A.inverse()*B\n",
    "    C=A.solve_right(B)\n",
    "#     expr=0\n",
    "#     CounterB=0\n",
    "#     for Prtsize in [0..dvalue]:\n",
    "#         for jj in [0..floor(Prtsize/2)]:\n",
    "#             mu1=Prtsize-jj\n",
    "#             mu2=jj\n",
    "#             if C[CounterB,0]<>0:\n",
    "#                 show(mu1,mu2,'-->',C[CounterB,0])\n",
    "#             expr=expr+(QQ(C[CounterB,0])*(FX(mu1)*FY(mu2)+FY(mu1)*FX(mu2)))\n",
    "#             CounterB=CounterB+1\n",
    "\n",
    "    \n",
    "    \n",
    "    CounterB=0\n",
    "    CounterD=0\n",
    "    for Prtsize in [0..dvalue]:\n",
    "        for jj in [0..floor(Prtsize/2)]:\n",
    "            mu1=Prtsize-jj\n",
    "            mu2=jj\n",
    "            if ((mu2-lambda2)>=0) and ((mu1+mu2-2*lambda2)<=(kvalue+lvalue+2)):\n",
    "                #D[CounterD,0]=mu1-lambda2\n",
    "                #D[CounterD,1]=mu2-lambda2\n",
    "                #print mu1-lambda2,mu2-lambda2\n",
    "                D[CounterD,0]=C[CounterB,0]\n",
    "                CounterD=CounterD+1\n",
    "            CounterB=CounterB+1\n",
    "    \n",
    "    return(D)\n",
    "\n",
    "\n",
    "\n",
    "\n",
    "################################################\n",
    "# lparam-adapted regular part of the Knop-Sahi polynomial KS_lambda where \n",
    "# lambda=(lowerd+lparam+1+iparam,lowerd+lparam+1+jparam). Note that we should\n",
    "# choose parameters satisfying:\n",
    "#\n",
    "#      iparam >= jparam    and    iparam+japaram <= kparam-lparam\n",
    "#\n",
    "# The output is a matrix with NumPar(kparam+lparam+2) rows, containing\n",
    "# coefficients of (x)_(d+a)y_(d+b) + (x)_(d+b)y_(d+a) for all possible a>=b.\n",
    "#\n",
    "#  NOTE: when iparam>=jparam>=0, we obtain the coefficients of the regular\n",
    "#  part of the above KS polynomial (actually, the polynomial has no poles!) but\n",
    "#  when iparam=kparam+1 and jparam=-lparam-1, we obtain the regular part of \n",
    "# KS(lowerd+kparam+lparam+2,lowerd); this polynomial has poles in its coefficients.\n",
    "#\n",
    "################################################\n",
    "\n",
    "@cached_function\n",
    "\n",
    "def RegKSfactorial(lowerd,kparam,lparam,iparam,jparam):\n",
    "    \n",
    "    B=matrix(QQ,NumPar(kparam+lparam+2),1,0)\n",
    "    if (jparam>=0):\n",
    "        dd=lowerd+lparam+jparam+1\n",
    "        mm=iparam-jparam\n",
    "        la1=dd+mm\n",
    "        la2=dd\n",
    "        CounterB=0\n",
    "        for Prtsize in [0..kparam+lparam+2]:\n",
    "            for jj in [0..floor(Prtsize/2)]:\n",
    "                mu1=Prtsize-jj\n",
    "                mu2=jj\n",
    "                a1=mu1-lparam-jparam-1\n",
    "                b1=mu2-lparam-jparam-1\n",
    "                if (b1>=0) and (a1+b1<=mm):\n",
    "                    Interim1=product(kparam+1-r for r in [0..mm-a1-1])\n",
    "                    Interim2=product(kparam+1-r for r in [0..mm-b1-1])\n",
    "                    Interim3=factorial(mm)*(factorial(dd)^2)*binomial(dd+a1,dd)*binomial(dd+b1,dd)\n",
    "                    Interim4=factorial(mm-a1-b1)*product(kparam+1-r for r in [0..mm-1])\n",
    "                    Interim5=1\n",
    "                    if (mu1==mu2):\n",
    "                        Interim5=QQ(1/2)\n",
    "                    B[CounterB,0]=((Interim1*Interim2*Interim3*Interim5)/Interim4)\n",
    "                CounterB=CounterB+1\n",
    "        return (B)\n",
    "    \n",
    "    if (jparam==-lparam-1):\n",
    "        mm=kparam+lparam+2\n",
    "        CounterB=0\n",
    "        for Prtsize in [0..mm]:\n",
    "            for jj in [0..floor(Prtsize/2)]:\n",
    "                mu1=Prtsize-jj\n",
    "                mu2=jj\n",
    "#                 if ((mm-mu1)<=kparam+1) and ((mm-mu2)>=kparam+2):\n",
    "#                     Interim1=product(kparam+1-r for r in [0..mm-mu1-1])\n",
    "#                     Interim2=factorial(mm-mu2-kparam-2)*((-1)^(mu2))\n",
    "#                     Interim3=factorial(mm-kparam-2)\n",
    "#                     Interim4=factorial(mm-mu1-mu2)\n",
    "#                     Interim5=factorial(mm)*(factorial(lowerd)^2)*binomial(lowerd+mu1,lowerd)*binomial(lowerd+mu2,lowerd)\n",
    "#                     Interim6=1\n",
    "#                     if (mu1==mu2):\n",
    "#                         Interim6=QQ(1/2)\n",
    "#                     B[CounterB,0]=Interim6*Interim5*((Interim1*Interim2)/(Interim3*Interim4))\n",
    "\n",
    "                Interim1=product(k+1-r for r in [0..mm-mu1-1])\n",
    "                Interim2=product(k+1-r for r in [0..mm-mu2-1])\n",
    "                Interim3=product(k+1-r for r in [0..mm-1])\n",
    "                Interim4=(Interim1*Interim2)/Interim3\n",
    "                Interim5=QQ(RegularPart(Interim4,kparam))\n",
    "                Interim6=(factorial(mm)/factorial(mm-mu1-mu2))\n",
    "                Interim61=(factorial(lowerd)^2)*binomial(lowerd+mu1,lowerd)*binomial(lowerd+mu2,lowerd)\n",
    "                Interim7=QQ(1)\n",
    "                if (mu1==mu2):\n",
    "                    Interim7=QQ(1/2)\n",
    "                B[CounterB,0]=Interim5*Interim6*Interim61*Interim7\n",
    "                CounterB=CounterB+1\n",
    "        return(B)\n",
    "        \n",
    "        \n",
    "        #############################\n",
    "        #############################\n",
    "        #############################\n",
    "    \n",
    "############################################################\n",
    "#\n",
    "# RegKSRev returns the polynomial whose coefficients are \n",
    "# generated by RegKSfactorial.\n",
    "#\n",
    "############################################################\n",
    "\n",
    "def RegKSRev(lowerd,kparam,lparam,iparam,jparam):\n",
    "    expr=0\n",
    "    M=matrix(QQ,NumPar(kparam+lparam+2),1,0)\n",
    "    M=RegKSfactorial(lowerd,kparam,lparam,iparam,jparam)\n",
    "    CounterB=0\n",
    "    for Prtsize in [0..kparam+lparam+2]:\n",
    "        for jj in [0..floor(Prtsize/2)]:\n",
    "            mu1=Prtsize-jj\n",
    "            mu2=jj\n",
    "            expr=expr+QQ(M[CounterB,0])*AA((FX(lowerd+mu1)*FY(lowerd+mu2))+(FX(lowerd+mu2)*FY(lowerd+mu1)))\n",
    "            CounterB=CounterB+1\n",
    "\n",
    "    return expr\n",
    "\n",
    "\n",
    "\n",
    "############################################################\n",
    "#\n",
    "# BigCapelliRev returns the polynomial whose coefficients are \n",
    "# generated by BigCapelliFactorial.\n",
    "#\n",
    "############################################################\n",
    "\n",
    "\n",
    "def BigCapelliRev(lowerd,kparam,lparam):\n",
    "    expr=0\n",
    "    M=matrix(QQ,NumPar(kparam+lparam+2),1,0)\n",
    "    M=BigCapelliFactorial(lowerd,kparam,lparam)\n",
    "    CounterB=0\n",
    "    for Prtsize in [0..kparam+lparam+2]:\n",
    "        for jj in [0..floor(Prtsize/2)]:\n",
    "            mu1=Prtsize-jj\n",
    "            mu2=jj\n",
    "            expr=expr+QQ(M[CounterB,0])*AA(FX(lowerd+mu1)*FY(lowerd+mu2)+FX(lowerd+mu2)*FY(lowerd+mu1))\n",
    "            CounterB=CounterB+1\n",
    "\n",
    "    return expr\n",
    "\n",
    "\n",
    "\n",
    "        \n",
    "######################################\n",
    "# SpecialCoef computes the mysterious \n",
    "# coefficient a^{k,l}_{k-l,0}(d) for the \n",
    "# case k=l. \n",
    "######################################\n",
    "\n",
    "\n",
    "def SpecialCoef(myd,myk):\n",
    "    Fla=matrix(QQ,NumPar(2*myk+2),1,0)\n",
    "    Fla1=matrix(QQ,NumPar(2*myk+2),1,0)\n",
    "    R1=matrix(QQ,NumPar(2*myk+2),1,0)\n",
    "    R2=matrix(QQ,NumPar(2*myk+2),1,0)\n",
    "    coeffi=QQ(0)\n",
    "    \n",
    "    Fla=factorial(myd)*factorial(myd+myk+1)*BigCapelliFactorial(myd,myk,myk)\n",
    "    R1=RegKSfactorial(myd,myk,myk,myk+1,-myk-1)\n",
    "    R2=RegKSfactorial(myd,myk,myk,0,0)\n",
    "    Fla1=Fla-(factorial(myk+1)/factorial(2*myk+2))*R1\n",
    "    if (R2[mE(myk+1,myk+1),0])<>0:\n",
    "        coeffi=QQ(Fla1[mE(myk+1,myk+1),0]/R2[mE(myk+1,myk+1),0])\n",
    "        coefi=coeffi*((-1)^(myk+1))*factorial(myk+1)*product(myd+r for r in [1..myk+1])\n",
    "        return(coefi)\n",
    "    else: \n",
    "        print Fla\n",
    "        print R1\n",
    "        print R2\n",
    "\n",
    "        \n",
    "######################################################\n",
    "#\n",
    "#\n",
    "#  FV(f,mu1,mu2,k) returns the box evaluation of f=f(x,y)\n",
    "#  at (x,y)=(mu1-k-1,mu2). Here the interpretation of the\n",
    "# box evaluation depends on the parameter k (because it \n",
    "# involves regular, quasi-regular, singular partitions).  \n",
    "#\n",
    "######################################################\n",
    "        \n",
    "def FV(ff,mu1,mu2,param):\n",
    "    Dff=NAbla(ff)\n",
    "    if PType(mu1,mu2,param)=='irr':\n",
    "        return(ff.subs(x=mu1-param-1,y=mu2))\n",
    "    if PType(mu1,mu2,param)=='sing':\n",
    "        return(ff.subs(x=mu1-param-1,y=mu2))\n",
    "    if PType(mu1,mu2,param)=='qreg':\n",
    "        return(Dff.subs(x=mu1-param-1,y=mu2))  \n",
    "        \n",
    "\n",
    "# def SCFast(myd,myk):\n",
    "#     P1=SR(RegKSRev(myd,myk,myk,myk+1,-myk-1))\n",
    "#     P2=SR(RegKSRev(myd,myk,myk,0,0))\n",
    "#     mu1=myd+myk+1\n",
    "#     mu2=myd+myk+1\n",
    "#     c1=FV(P1,mu1,mu2,myk)\n",
    "#     c2=FV(P2,mu1,mu2,myk)\n",
    "#     coef=((-1)^myk)*product(myd+r for r in [1..myk+1])*c1/(c2*binomial(2*myk+2,myk+1))\n",
    "#     return(coef)\n",
    "\n",
    "\n"
   ]
  },
  {
   "cell_type": "code",
   "execution_count": 1,
   "metadata": {},
   "outputs": [],
   "source": []
  },
  {
   "cell_type": "code",
   "execution_count": 58,
   "metadata": {},
   "outputs": [],
   "source": [
    "############################################\n",
    "#\n",
    "# The code in this box computes the Knop-Sahi \n",
    "# polynomial at (D,0). This code was written\n",
    "# for the purpose of Conjecture 1. But the \n",
    "# Conjecture 1 was proved by a simpler, more \n",
    "# conceptual method.\n",
    "#\n",
    "############################################\n",
    "\n",
    "\n",
    "\n",
    "# def Xf(n):\n",
    "#     return product(x-r for r in [0..n-1])\n",
    "\n",
    "# def Yf(n):\n",
    "#     return product(y-r for r in [0..n-1])\n",
    "\n",
    "# def Xs(n,const):\n",
    "#     return product(x-r-const for r in [0..n-1])\n",
    "\n",
    "# def Conj(D,kparam):\n",
    "#     kk=kparam\n",
    "#     retexpr=AA(0)\n",
    "#     for a in [0..kk+1]:\n",
    "#         for r in [1..D]:\n",
    "#             Interim1=binomial(D,a)*(-1)^(a+r+1)*(SR(Xf(a)).subs(x=kk+1))*factorial(r-1)/(SR(Xf(a)).subs(x=D-kk-2))\n",
    "#             Interim2=(binomial(D-a,r)*Xs(D-a-r,a)*Yf(a))-(binomial(a,r)*Xs(D-a,a)*Yf(a-r))+(binomial(a,r)*Xs(a-r,D-a)*Yf(D-a))-(binomial(D-a,r)*Xs(a,D-a)*Yf(D-a-r))\n",
    "#             retexpr=retexpr+(Interim1*Interim2)\n",
    "#     return retexpr\n",
    "\n",
    "# def Conjj(D,kparam):\n",
    "#     kk=kparam\n",
    "#     retexpr=AA(0)\n",
    "#     for a in [0..kk+1]:\n",
    "#         Interim1=binomial(D,a)*(-1)^(a)*(SR(Xf(a)).subs(x=kk+1))/(SR(Xf(a)).subs(x=D-kk-2))\n",
    "#         Interim2=(Xs(D-a,a-kk-1)*Yf(a))+(Xs(a,D-a-kk-1)*Yf(D-a))\n",
    "#         retexpr=retexpr+(Interim1*Interim2)\n",
    "#     return retexpr\n",
    "        \n",
    "\n"
   ]
  },
  {
   "cell_type": "code",
   "execution_count": 2,
   "metadata": {},
   "outputs": [],
   "source": [
    "def ACoeff (myk,myl,myi,myj,myd):\n",
    "    b=myj\n",
    "    a=myk-myl-myi\n",
    "    if (a+b>0):\n",
    "        Intrm1=(-1)^(myl+a+b)*binomial(a,b)\n",
    "        Intrm2=factorial(myl)*factorial(myk-myl-a-b)*a\n",
    "        Intrm3=product(myl+1+r for r in [1..b])*product(myl+a+r for r in [1..b])\n",
    "        return QQ(Intrm1/(Intrm2*Intrm3))\n",
    "    \n",
    "    if (a+b==0):\n",
    "        Intrm1=-(1/factorial(myk-myl))*factorial(myl+1)*(1/factorial(2*myl+2))\n",
    "        \n",
    "        Intrm2=SR(NAbla(Rks(myd+(2*myl)+2,myd,myl))).simplify_rational()\n",
    "        \n",
    "        Intrm22=Intrm2.subs(x=myd+myl+1,y=myd)\n",
    "        \n",
    "        Intrm3=SR(NAbla(Rks(myd+myl+1,myd+myl+1,myl))).simplify_rational()\n",
    "        \n",
    "        Intrm33=(Intrm3).subs(x=myd+myl+1,y=myd)\n",
    "        \n",
    "        return QQ(Intrm1*Intrm22/Intrm33)\n",
    "        \n",
    "        \n",
    "\n",
    "\n",
    "def TestConjecture (la1,la2,kparam):\n",
    "    if PType(la1,la2,kparam)=='irr':\n",
    "        ff=SR((1/QQ(SR(KnSa(la1,la2)).subs(x=la1-kparam-1,y=la2,k=kparam)))*KnSa(la1,la2)).subs(k=kparam)\n",
    "    if PType(la1,la2,kparam)=='qreg':\n",
    "        ff=SR((1/QQ(SR(NAbla(KnSa(la1,la2))).subs(x=la1-kparam-1,y=la2,k=kparam)))*KnSa(la1,la2)).subs(k=kparam)\n",
    "    if PType(la1,la2,kparam)=='sing':\n",
    "        d=la2\n",
    "        k1=kparam\n",
    "        l=la1-la2-k1-2\n",
    "        Intrm1=(factorial(l+1)/factorial(k1+l+2))*RegularPart(KnSa(d+k1+l+2,d),k1)\n",
    "        Intrm2=0\n",
    "        for i in [0..k1-l]:\n",
    "            for j in [0..min(i,k1-l-i)]:\n",
    "                Intrm2=Intrm2+(ACoeff(k1,l,i,j,d)*(SR(KnSa(d+l+1+i,d+l+1+j)).subs(k=k1)))\n",
    "        ff=(1/(factorial(d+l+1)*factorial(d)))*(Intrm1+Intrm2)\n",
    "    FuncValues(ff,kparam,la1+la2)\n",
    "                  \n",
    "                  \n",
    "            \n",
    "                  "
   ]
  },
  {
   "cell_type": "code",
   "execution_count": 3,
   "metadata": {},
   "outputs": [
    {
     "name": "stdout",
     "output_type": "stream",
     "text": [
      "0 0 irr 0\n",
      "1 0 irr 0\n",
      "2 0 irr 0\n",
      "1 1 irr -6\n",
      "3 0 sing 6\n",
      "2 1 qreg -3/2\n"
     ]
    }
   ],
   "source": [
    "FuncValues(Rks(3,0,1),1,3)"
   ]
  },
  {
   "cell_type": "code",
   "execution_count": 14,
   "metadata": {},
   "outputs": [
    {
     "data": {
      "text/html": [
       "<html><script type=\"math/tex; mode=display\">\\newcommand{\\Bold}[1]{\\mathbf{#1}}6</script></html>"
      ],
      "text/plain": [
       "6"
      ]
     },
     "execution_count": 14,
     "metadata": {},
     "output_type": "execute_result"
    }
   ],
   "source": [
    "(SR(KnSa(3,0)).subs(x=3-k-1,y=0)).expand()"
   ]
  },
  {
   "cell_type": "code",
   "execution_count": 40,
   "metadata": {},
   "outputs": [
    {
     "data": {
      "text/html": [
       "<html><script type=\"math/tex; mode=display\">\\newcommand{\\Bold}[1]{\\mathbf{#1}}x^{3} + \\left(\\frac{3 k + 3}{k - 1}\\right) x^{2} y + \\left(\\frac{3 k + 3}{k - 1}\\right) x y^{2} + y^{3} + \\left(3 k\\right) x^{2} + \\left(6 k + 6\\right) x y + \\left(3 k\\right) y^{2} + \\left(3 k^{2} - 1\\right) x + \\left(3 k^{2} - 1\\right) y + k^{3} - k</script></html>"
      ],
      "text/plain": [
       "x^3 + ((3*k + 3)/(k - 1))*x^2*y + ((3*k + 3)/(k - 1))*x*y^2 + y^3 + 3*k*x^2 + (6*k + 6)*x*y + 3*k*y^2 + (3*k^2 - 1)*x + (3*k^2 - 1)*y + k^3 - k"
      ]
     },
     "metadata": {},
     "output_type": "display_data"
    }
   ],
   "source": [
    "p1=KnSa(3,0)\n",
    "show(p1)"
   ]
  },
  {
   "cell_type": "code",
   "execution_count": 14,
   "metadata": {},
   "outputs": [
    {
     "data": {
      "text/html": [
       "<html><script type=\"math/tex; mode=display\">\\newcommand{\\Bold}[1]{\\mathbf{#1}}6 \\, x^{2} y + 6 \\, x y^{2}</script></html>"
      ],
      "text/plain": [
       "6*x^2*y + 6*x*y^2"
      ]
     },
     "metadata": {},
     "output_type": "display_data"
    }
   ],
   "source": [
    "p2=SingularPart(KnSa(3,0),1)\n",
    "show(p2)"
   ]
  },
  {
   "cell_type": "code",
   "execution_count": 13,
   "metadata": {},
   "outputs": [
    {
     "name": "stdout",
     "output_type": "stream",
     "text": [
      "0 0 irr 0\n",
      "1 0 irr 0\n",
      "2 0 irr 0\n",
      "1 1 irr -6\n",
      "3 0 sing 6\n",
      "2 1 qreg -3/2\n"
     ]
    }
   ],
   "source": [
    "FuncValues(Rks(3,0,1),1,3)"
   ]
  },
  {
   "cell_type": "code",
   "execution_count": 49,
   "metadata": {},
   "outputs": [
    {
     "data": {
      "text/html": [
       "<html><script type=\"math/tex; mode=display\">\\newcommand{\\Bold}[1]{\\mathbf{#1}}k^{3} + 3 \\, k x^{2} + x^{3} + 3 \\, {\\left(k + x\\right)} y^{2} + y^{3} + {\\left(3 \\, k^{2} - 1\\right)} x + {\\left(3 \\, k^{2} + 6 \\, k x + 3 \\, x^{2} - 1\\right)} y - k</script></html>"
      ],
      "text/plain": [
       "k^3 + 3*k*x^2 + x^3 + 3*(k + x)*y^2 + y^3 + (3*k^2 - 1)*x + (3*k^2 + 6*k*x + 3*x^2 - 1)*y - k"
      ]
     },
     "metadata": {},
     "output_type": "display_data"
    }
   ],
   "source": [
    "p3=SR(p1-(6/(k-1))*KnSa(2,1)).simplify_rational()\n",
    "show(p3)"
   ]
  },
  {
   "cell_type": "code",
   "execution_count": 42,
   "metadata": {},
   "outputs": [
    {
     "data": {
      "text/html": [
       "<html><script type=\"math/tex; mode=display\">\\newcommand{\\Bold}[1]{\\mathbf{#1}}k^{3} + 3 \\, k x^{2} + x^{3} + 3 \\, {\\left(k + x\\right)} y^{2} + y^{3} + {\\left(3 \\, k^{2} - 1\\right)} x + {\\left(3 \\, k^{2} + 6 \\, {\\left(k + 1\\right)} x + 3 \\, x^{2} - 1\\right)} y - k</script></html>"
      ],
      "text/plain": [
       "k^3 + 3*k*x^2 + x^3 + 3*(k + x)*y^2 + y^3 + (3*k^2 - 1)*x + (3*k^2 + 6*(k + 1)*x + 3*x^2 - 1)*y - k"
      ]
     },
     "execution_count": 42,
     "metadata": {},
     "output_type": "execute_result"
    }
   ],
   "source": [
    "SR(p1-(1/(k-1))*SingularPart(KnSa(3,0),1)).simplify_rational()"
   ]
  },
  {
   "cell_type": "code",
   "execution_count": 48,
   "metadata": {},
   "outputs": [
    {
     "ename": "ValueError",
     "evalue": "power::eval(): division by zero",
     "output_type": "error",
     "traceback": [
      "\u001b[0;31m---------------------------------------------------------------------------\u001b[0m",
      "\u001b[0;31mValueError\u001b[0m                                Traceback (most recent call last)",
      "\u001b[0;32m/home/hsalmasi/SageMath/local/lib/python2.7/site-packages/sage/all_cmdline.pyc\u001b[0m in \u001b[0;36m<module>\u001b[0;34m()\u001b[0m\n\u001b[0;32m----> 1\u001b[0;31m \u001b[0mp4\u001b[0m\u001b[0;34m=\u001b[0m\u001b[0mSR\u001b[0m\u001b[0;34m(\u001b[0m\u001b[0mp3\u001b[0m\u001b[0;34m)\u001b[0m\u001b[0;34m.\u001b[0m\u001b[0msubs\u001b[0m\u001b[0;34m(\u001b[0m\u001b[0mk\u001b[0m\u001b[0;34m=\u001b[0m\u001b[0mInteger\u001b[0m\u001b[0;34m(\u001b[0m\u001b[0;36m1\u001b[0m\u001b[0;34m)\u001b[0m\u001b[0;34m)\u001b[0m\u001b[0;34m\u001b[0m\u001b[0m\n\u001b[0m\u001b[1;32m      2\u001b[0m \u001b[0mshow\u001b[0m\u001b[0;34m(\u001b[0m\u001b[0mp4\u001b[0m\u001b[0;34m)\u001b[0m\u001b[0;34m\u001b[0m\u001b[0m\n",
      "\u001b[0;32m/home/hsalmasi/SageMath/local/lib/python2.7/site-packages/sage/symbolic/expression.pyx\u001b[0m in \u001b[0;36msage.symbolic.expression.Expression.substitute (build/cythonized/sage/symbolic/expression.cpp:30638)\u001b[0;34m()\u001b[0m\n\u001b[1;32m   5317\u001b[0m         \u001b[0msig_on\u001b[0m\u001b[0;34m(\u001b[0m\u001b[0;34m)\u001b[0m\u001b[0;34m\u001b[0m\u001b[0m\n\u001b[1;32m   5318\u001b[0m         \u001b[0;32mtry\u001b[0m\u001b[0;34m:\u001b[0m\u001b[0;34m\u001b[0m\u001b[0m\n\u001b[0;32m-> 5319\u001b[0;31m             \u001b[0mres\u001b[0m \u001b[0;34m=\u001b[0m \u001b[0mself\u001b[0m\u001b[0;34m.\u001b[0m\u001b[0m_gobj\u001b[0m\u001b[0;34m.\u001b[0m\u001b[0msubs_map\u001b[0m\u001b[0;34m(\u001b[0m\u001b[0msmap\u001b[0m\u001b[0;34m,\u001b[0m \u001b[0;36m0\u001b[0m\u001b[0;34m)\u001b[0m\u001b[0;34m\u001b[0m\u001b[0m\n\u001b[0m\u001b[1;32m   5320\u001b[0m         \u001b[0;32mfinally\u001b[0m\u001b[0;34m:\u001b[0m\u001b[0;34m\u001b[0m\u001b[0m\n\u001b[1;32m   5321\u001b[0m             \u001b[0msig_off\u001b[0m\u001b[0;34m(\u001b[0m\u001b[0;34m)\u001b[0m\u001b[0;34m\u001b[0m\u001b[0m\n",
      "\u001b[0;31mValueError\u001b[0m: power::eval(): division by zero"
     ]
    }
   ],
   "source": [
    "p4=SR(p3).subs(k=1)\n",
    "show(p4)"
   ]
  },
  {
   "cell_type": "code",
   "execution_count": 46,
   "metadata": {},
   "outputs": [
    {
     "name": "stdout",
     "output_type": "stream",
     "text": [
      "0 0 irr 0\n",
      "1 0 irr 0\n",
      "2 0 irr 0\n",
      "1 1 irr 0\n",
      "3 0 sing 6\n",
      "2 1 qreg 0\n"
     ]
    }
   ],
   "source": [
    "FuncValues(p4,1,3)"
   ]
  },
  {
   "cell_type": "code",
   "execution_count": 33,
   "metadata": {},
   "outputs": [
    {
     "data": {
      "text/html": [
       "<html><script type=\"math/tex; mode=display\">\\newcommand{\\Bold}[1]{\\mathbf{#1}}x^{3} + 3 \\, {\\left(x + 1\\right)} y^{2} + y^{3} + 3 \\, x^{2} + {\\left(3 \\, x^{2} + 12 \\, x + 2\\right)} y + 2 \\, x</script></html>"
      ],
      "text/plain": [
       "x^3 + 3*(x + 1)*y^2 + y^3 + 3*x^2 + (3*x^2 + 12*x + 2)*y + 2*x"
      ]
     },
     "execution_count": 33,
     "metadata": {},
     "output_type": "execute_result"
    }
   ],
   "source": [
    "Rks(3,0,1)"
   ]
  },
  {
   "cell_type": "code",
   "execution_count": 32,
   "metadata": {},
   "outputs": [
    {
     "data": {
      "text/html": [
       "<html><script type=\"math/tex; mode=display\">\\newcommand{\\Bold}[1]{\\mathbf{#1}}0</script></html>"
      ],
      "text/plain": [
       "0"
      ]
     },
     "execution_count": 32,
     "metadata": {},
     "output_type": "execute_result"
    }
   ],
   "source": [
    "SR(p3).subs(x=1-k-1,y=1).expand()"
   ]
  },
  {
   "cell_type": "code",
   "execution_count": 24,
   "metadata": {},
   "outputs": [
    {
     "data": {
      "text/html": [
       "<html><script type=\"math/tex; mode=display\">\\newcommand{\\Bold}[1]{\\mathbf{#1}}0</script></html>"
      ],
      "text/plain": [
       "0"
      ]
     },
     "execution_count": 24,
     "metadata": {},
     "output_type": "execute_result"
    }
   ],
   "source": [
    "SR(p1).subs(x=1-k-1,y=1).expand().simplify_rational()"
   ]
  },
  {
   "cell_type": "code",
   "execution_count": 25,
   "metadata": {},
   "outputs": [
    {
     "data": {
      "text/html": [
       "<html><script type=\"math/tex; mode=display\">\\newcommand{\\Bold}[1]{\\mathbf{#1}}6 \\, k^{2} - 6 \\, k</script></html>"
      ],
      "text/plain": [
       "6*k^2 - 6*k"
      ]
     },
     "execution_count": 25,
     "metadata": {},
     "output_type": "execute_result"
    }
   ],
   "source": [
    "SR(p2).subs(x=1-k-1,y=1).expand().simplify_rational()"
   ]
  },
  {
   "cell_type": "code",
   "execution_count": 26,
   "metadata": {},
   "outputs": [
    {
     "data": {
      "text/html": [
       "<html><script type=\"math/tex; mode=display\">\\newcommand{\\Bold}[1]{\\mathbf{#1}}x^{2} y + x y^{2} + \\left(k - 1\\right) x y</script></html>"
      ],
      "text/plain": [
       "x^2*y + x*y^2 + (k - 1)*x*y"
      ]
     },
     "execution_count": 26,
     "metadata": {},
     "output_type": "execute_result"
    }
   ],
   "source": [
    "KnSa(2,1)"
   ]
  },
  {
   "cell_type": "code",
   "execution_count": 28,
   "metadata": {},
   "outputs": [
    {
     "data": {
      "text/html": [
       "<html><script type=\"math/tex; mode=display\">\\newcommand{\\Bold}[1]{\\mathbf{#1}}0</script></html>"
      ],
      "text/plain": [
       "0"
      ]
     },
     "execution_count": 28,
     "metadata": {},
     "output_type": "execute_result"
    }
   ],
   "source": [
    "SR(KnSa(2,1)).subs(x=1-k-1,y=1).expand()"
   ]
  },
  {
   "cell_type": "code",
   "execution_count": 43,
   "metadata": {},
   "outputs": [
    {
     "data": {
      "text/html": [
       "<html><script type=\"math/tex; mode=display\">\\newcommand{\\Bold}[1]{\\mathbf{#1}}x^{2} y + x y^{2} + \\left(k - 1\\right) x y</script></html>"
      ],
      "text/plain": [
       "x^2*y + x*y^2 + (k - 1)*x*y"
      ]
     },
     "execution_count": 43,
     "metadata": {},
     "output_type": "execute_result"
    }
   ],
   "source": [
    "KnSa(2,1)"
   ]
  },
  {
   "cell_type": "code",
   "execution_count": 104,
   "metadata": {},
   "outputs": [
    {
     "data": {
      "text/html": [
       "<html><script type=\"math/tex; mode=display\">\\newcommand{\\Bold}[1]{\\mathbf{#1}}5 -30</script></html>"
      ],
      "text/plain": [
       "5 -30"
      ]
     },
     "metadata": {},
     "output_type": "display_data"
    },
    {
     "data": {
      "text/html": [
       "<html><script type=\"math/tex; mode=display\">\\newcommand{\\Bold}[1]{\\mathbf{#1}}6 -90</script></html>"
      ],
      "text/plain": [
       "6 -90"
      ]
     },
     "metadata": {},
     "output_type": "display_data"
    },
    {
     "data": {
      "text/html": [
       "<html><script type=\"math/tex; mode=display\">\\newcommand{\\Bold}[1]{\\mathbf{#1}}7 -420</script></html>"
      ],
      "text/plain": [
       "7 -420"
      ]
     },
     "metadata": {},
     "output_type": "display_data"
    },
    {
     "data": {
      "text/html": [
       "<html><script type=\"math/tex; mode=display\">\\newcommand{\\Bold}[1]{\\mathbf{#1}}8 -2520</script></html>"
      ],
      "text/plain": [
       "8 -2520"
      ]
     },
     "metadata": {},
     "output_type": "display_data"
    }
   ],
   "source": [
    "kk=3\n",
    "\n",
    "for i in [kk+2..(2*kk)+2]:\n",
    "    ff=SR(SingularPart(KnSa(i,0),kk))\n",
    "    gg=NAbla(ff)\n",
    "    value=gg.subs(x=i-kk-1,y=0)\n",
    "    show(i,value)\n",
    "    "
   ]
  },
  {
   "cell_type": "code",
   "execution_count": 3,
   "metadata": {},
   "outputs": [
    {
     "data": {
      "text/html": [
       "<html><script type=\"math/tex; mode=display\">\\newcommand{\\Bold}[1]{\\mathbf{#1}}\\left(\\frac{-\\frac{3}{2}}{k - 1}\\right) x + \\left(\\frac{-\\frac{3}{2}}{k - 1}\\right) y - \\frac{3}{2}</script></html>"
      ],
      "text/plain": [
       "(-3/2/(k - 1))*x + (-3/2/(k - 1))*y - 3/2"
      ]
     },
     "execution_count": 3,
     "metadata": {},
     "output_type": "execute_result"
    }
   ],
   "source": [
    "NAbla(KnSa(3,0))"
   ]
  },
  {
   "cell_type": "code",
   "execution_count": 8,
   "metadata": {},
   "outputs": [
    {
     "name": "stdout",
     "output_type": "stream",
     "text": [
      "0 0 irr 0\n",
      "1 0 irr 0\n",
      "2 0 irr 0\n",
      "1 1 irr 0\n",
      "3 0 sing 0\n",
      "2 1 qreg -3/2\n"
     ]
    }
   ],
   "source": [
    "FuncValues(SingularPart(KnSa(3,0),1),1,3)"
   ]
  },
  {
   "cell_type": "code",
   "execution_count": 7,
   "metadata": {},
   "outputs": [
    {
     "name": "stdout",
     "output_type": "stream",
     "text": [
      "0 0 irr 3\n",
      "1 0 irr 3/2\n",
      "2 0 irr 0\n",
      "1 1 irr 0\n",
      "3 0 sing -3/2\n",
      "2 1 qreg 0\n"
     ]
    }
   ],
   "source": [
    "FuncValues(ff,1,3)"
   ]
  },
  {
   "cell_type": "code",
   "execution_count": 11,
   "metadata": {},
   "outputs": [],
   "source": [
    "ff=NAbla(SingularPart(KnSa(3,0),1))"
   ]
  },
  {
   "cell_type": "code",
   "execution_count": null,
   "metadata": {},
   "outputs": [],
   "source": [
    "FuncValues()"
   ]
  }
 ],
 "metadata": {
  "kernelspec": {
   "display_name": "SageMath 8.6",
   "language": "",
   "name": "sagemath"
  },
  "language_info": {
   "codemirror_mode": {
    "name": "ipython",
    "version": 2
   },
   "file_extension": ".py",
   "mimetype": "text/x-python",
   "name": "python",
   "nbconvert_exporter": "python",
   "pygments_lexer": "ipython2",
   "version": "2.7.15"
  }
 },
 "nbformat": 4,
 "nbformat_minor": 2
}
